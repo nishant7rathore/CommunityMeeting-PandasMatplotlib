{
 "cells": [
  {
   "cell_type": "markdown",
   "id": "5e058257-47bb-4c1b-a7a6-aa52ad16d938",
   "metadata": {},
   "source": [
    "# Software Community Meeting"
   ]
  },
  {
   "cell_type": "markdown",
   "id": "b0d4f9fd-1d2d-4a55-b23e-d5c17fa1d57b",
   "metadata": {},
   "source": [
    "## Jupyter demo"
   ]
  },
  {
   "cell_type": "code",
   "execution_count": 1,
   "id": "510b266b-f9af-422f-a4ee-7f2f7a008ac9",
   "metadata": {},
   "outputs": [],
   "source": [
    "bar = 50"
   ]
  },
  {
   "cell_type": "code",
   "execution_count": 3,
   "id": "2913df69-6e3f-44c8-8077-2ea30df15824",
   "metadata": {},
   "outputs": [
    {
     "name": "stdout",
     "output_type": "stream",
     "text": [
      "50\n",
      "5\n"
     ]
    }
   ],
   "source": [
    "print(bar)\n",
    "k = 5\n",
    "print(k)"
   ]
  },
  {
   "cell_type": "code",
   "execution_count": null,
   "id": "1b531794-66ef-4282-8692-7afbaf3f0a2a",
   "metadata": {},
   "outputs": [],
   "source": []
  },
  {
   "cell_type": "code",
   "execution_count": null,
   "id": "bc205ce6-251a-443e-a3a7-fd9a194ebae2",
   "metadata": {},
   "outputs": [],
   "source": []
  }
 ],
 "metadata": {
  "kernelspec": {
   "display_name": "Python 3",
   "language": "python",
   "name": "python3"
  },
  "language_info": {
   "codemirror_mode": {
    "name": "ipython",
    "version": 3
   },
   "file_extension": ".py",
   "mimetype": "text/x-python",
   "name": "python",
   "nbconvert_exporter": "python",
   "pygments_lexer": "ipython3",
   "version": "3.8.11"
  }
 },
 "nbformat": 4,
 "nbformat_minor": 5
}
